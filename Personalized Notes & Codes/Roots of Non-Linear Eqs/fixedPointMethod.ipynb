{
 "cells": [
  {
   "cell_type": "markdown",
   "metadata": {},
   "source": [
    "### Less Detailed"
   ]
  },
  {
   "cell_type": "code",
   "execution_count": 3,
   "metadata": {},
   "outputs": [
    {
     "name": "stdout",
     "output_type": "stream",
     "text": [
      "Root = 3.999999773692347\n",
      "Function value at root = 3.999999929278857\n"
     ]
    }
   ],
   "source": [
    "def g(x):\n",
    "    \"\"\"Define the function for the Fixed Point Method.\"\"\"\n",
    "    return (15 * x + 4) ** (1/3)\n",
    "\n",
    "def fixed_point(g, x0, tol=1e-6, max_iter=100):\n",
    "    \"\"\"\n",
    "    Find the root using the Fixed Point Method.\n",
    "    \n",
    "    Parameters:\n",
    "    g : function - The function used for fixed point iteration\n",
    "    x0 : float - Initial guess for the root\n",
    "    tol : float - Tolerance for stopping criterion\n",
    "    max_iter : int - Maximum number of iterations\n",
    "    \n",
    "    Returns:\n",
    "    float - Approximate root of the function\n",
    "    \"\"\"\n",
    "    for _ in range(max_iter):\n",
    "        x1 = g(x0)  # Update the guess\n",
    "        \n",
    "        # Check for convergence\n",
    "        if abs(x1 - x0) < tol:\n",
    "            return x1  # Root found\n",
    "\n",
    "        x0 = x1  # Update the guess for the next iteration\n",
    "\n",
    "    raise ValueError(\"Fixed Point Method did not converge within the maximum number of iterations.\")\n",
    "\n",
    "# Example usage\n",
    "initial_guess = 2  # Initial guess for the root\n",
    "tolerance = 1e-6\n",
    "\n",
    "root = fixed_point(g, initial_guess, tol=tolerance)\n",
    "print('Root =', root)\n",
    "print('Function value at root =', g(root))\n"
   ]
  },
  {
   "cell_type": "code",
   "execution_count": 11,
   "metadata": {},
   "outputs": [
    {
     "name": "stdout",
     "output_type": "stream",
     "text": [
      "Root = 3.999999773692347\n",
      "Function value at root = 3.999999929278857\n"
     ]
    }
   ],
   "source": [
    "''' simple code '''\n",
    "def g(x):\n",
    "    return (15 * x + 4) ** (1/3)\n",
    "\n",
    "def fixed_point(g, x0, tol=1e-6, max_iter=100):\n",
    "    for _ in range(max_iter):\n",
    "        x1 = g(x0)  # Update the guess\n",
    "        \n",
    "        # Check for convergence\n",
    "        if abs(x1 - x0) < tol:\n",
    "            return x1  # Root found\n",
    "\n",
    "        x0 = x1  # Update the guess for the next iteration\n",
    "\n",
    "    raise ValueError(\"Fixed Point Method did not converge within the maximum number of iterations.\")\n",
    "\n",
    "# Example usage\n",
    "initial_guess = 2  # Initial guess for the root\n",
    "tolerance = 1e-6\n",
    "\n",
    "root = fixed_point(g, initial_guess, tol=tolerance)\n",
    "print('Root =', root)\n",
    "print('Function value at root =', g(root))\n"
   ]
  },
  {
   "cell_type": "markdown",
   "metadata": {},
   "source": [
    "### More Detailed"
   ]
  }
 ],
 "metadata": {
  "kernelspec": {
   "display_name": "Python 3",
   "language": "python",
   "name": "python3"
  },
  "language_info": {
   "codemirror_mode": {
    "name": "ipython",
    "version": 3
   },
   "file_extension": ".py",
   "mimetype": "text/x-python",
   "name": "python",
   "nbconvert_exporter": "python",
   "pygments_lexer": "ipython3",
   "version": "3.12.4"
  }
 },
 "nbformat": 4,
 "nbformat_minor": 2
}
