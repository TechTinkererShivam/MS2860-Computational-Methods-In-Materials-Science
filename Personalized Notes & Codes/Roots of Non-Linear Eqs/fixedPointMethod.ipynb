{
 "cells": [
  {
   "cell_type": "markdown",
   "metadata": {},
   "source": [
    "### Less Detailed"
   ]
  },
  {
   "cell_type": "code",
   "execution_count": 1,
   "metadata": {},
   "outputs": [
    {
     "name": "stdout",
     "output_type": "stream",
     "text": [
      "Root = 3.999999773692347\n",
      "Function value at root = 3.999999929278857\n"
     ]
    }
   ],
   "source": [
    "def g(x):\n",
    "    \"\"\"Define the function for the Fixed Point Method.\"\"\"\n",
    "    return (15 * x + 4) ** (1/3)\n",
    "\n",
    "def fixed_point(g, x0, tol=1e-6, max_iter=100):\n",
    "    \"\"\"\n",
    "    Find the root using the Fixed Point Method.\n",
    "    \n",
    "    Parameters:\n",
    "    g : function - The function used for fixed point iteration\n",
    "    x0 : float - Initial guess for the root\n",
    "    tol : float - Tolerance for stopping criterion\n",
    "    max_iter : int - Maximum number of iterations\n",
    "    \n",
    "    Returns:\n",
    "    float - Approximate root of the function\n",
    "    \"\"\"\n",
    "    for _ in range(max_iter):\n",
    "        x1 = g(x0)  # Update the guess\n",
    "        \n",
    "        # Check for convergence\n",
    "        if abs(x1 - x0) < tol:\n",
    "            return x1  # Root found\n",
    "\n",
    "        x0 = x1  # Update the guess for the next iteration\n",
    "\n",
    "    raise ValueError(\"Fixed Point Method did not converge within the maximum number of iterations.\")\n",
    "\n",
    "# Example usage\n",
    "initial_guess = 2  # Initial guess for the root\n",
    "tolerance = 1e-6\n",
    "\n",
    "root = fixed_point(g, initial_guess, tol=tolerance)\n",
    "print('Root =', root)\n",
    "print('Function value at root =', g(root))\n"
   ]
  },
  {
   "cell_type": "code",
   "execution_count": 2,
   "metadata": {},
   "outputs": [
    {
     "name": "stdout",
     "output_type": "stream",
     "text": [
      "Root = 3.999999773692347\n",
      "Function value at root = 3.999999929278857\n"
     ]
    }
   ],
   "source": [
    "''' simple code '''\n",
    "def g(x):\n",
    "    return (15 * x + 4) ** (1/3)\n",
    "\n",
    "def fixed_point(g, x0, tol=1e-6, max_iter=100):\n",
    "    for _ in range(max_iter):\n",
    "        x1 = g(x0)  # Update the guess\n",
    "        \n",
    "        # Check for convergence\n",
    "        if abs(x1 - x0) < tol:\n",
    "            return x1  # Root found\n",
    "\n",
    "        x0 = x1  # Update the guess for the next iteration\n",
    "\n",
    "    raise ValueError(\"Fixed Point Method did not converge within the maximum number of iterations.\")\n",
    "\n",
    "# Example usage\n",
    "initial_guess = 2  # Initial guess for the root\n",
    "tolerance = 1e-6\n",
    "\n",
    "root = fixed_point(g, initial_guess, tol=tolerance)\n",
    "print('Root =', root)\n",
    "print('Function value at root =', g(root))\n"
   ]
  },
  {
   "cell_type": "markdown",
   "metadata": {},
   "source": [
    "Note: While expressing f(x)=0 to x = g(x) we can have many different forms. \n",
    "\n",
    "For convergence, following criteraia must be satisfied.\n",
    "$$ |g'(x)|< 1 $$"
   ]
  },
  {
   "cell_type": "markdown",
   "metadata": {},
   "source": [
    "### More Detailed"
   ]
  },
  {
   "cell_type": "code",
   "execution_count": 3,
   "metadata": {},
   "outputs": [
    {
     "name": "stdout",
     "output_type": "stream",
     "text": [
      "Solving Equation 1: x^2 - 4x + 4 = 0\n",
      "Did not converge after 100 iterations.\n",
      "\n",
      "Solving Equation 2: cos(x) - x = 0\n",
      "Converged to 0.7390848229131414 after 34 iterations.\n",
      "\n",
      "Solving Equation 3: e^x - 3x = 0\n",
      "Converged to 0.6190602548789568 after 24 iterations.\n"
     ]
    },
    {
     "data": {
      "text/plain": [
       "np.float64(0.6190602548789568)"
      ]
     },
     "execution_count": 3,
     "metadata": {},
     "output_type": "execute_result"
    }
   ],
   "source": [
    "import numpy as np\n",
    "import math\n",
    "\n",
    "# Function to implement the fixed-point iteration method\n",
    "def fixed_point_iteration(g, x0, tol=1e-6, max_iter=100):\n",
    "    for i in range(max_iter):\n",
    "        x1 = g(x0)  # Compute g(x0)\n",
    "        #print(f\"Iteration {i+1}: x = {x1}\")\n",
    "        if abs(x1 - x0) < tol:  # Check for convergence\n",
    "            print(f\"Converged to {x1} after {i+1} iterations.\")\n",
    "            return x1\n",
    "        x0 = x1\n",
    "    print(f\"Did not converge after {max_iter} iterations.\")\n",
    "    return None\n",
    "\n",
    "# Define the g(x) functions for the three non-linear equations\n",
    "# Equation 1: x^2 - 4x + 4 = 0\n",
    "def g1(x):\n",
    "    return np.sqrt(4 * x - 4)\n",
    "\n",
    "# Equation 2: cos(x) - x = 0\n",
    "def g2(x):\n",
    "    return np.cos(x)\n",
    "\n",
    "# Equation 3: e^x - 3x = 0\n",
    "def g3(x):\n",
    "    return np.exp(x) / 3\n",
    "\n",
    "# Initial guesses\n",
    "x0_1 = 2.5  # Initial guess for equation 1\n",
    "x0_2 = 0.5  # Initial guess for equation 2\n",
    "x0_3 = 0.5  # Initial guess for equation 3\n",
    "\n",
    "# Solve the equations\n",
    "print(\"Solving Equation 1: x^2 - 4x + 4 = 0\")\n",
    "fixed_point_iteration(g1, x0_1)\n",
    "\n",
    "print(\"\\nSolving Equation 2: cos(x) - x = 0\")\n",
    "fixed_point_iteration(g2, x0_2)\n",
    "\n",
    "print(\"\\nSolving Equation 3: e^x - 3x = 0\")\n",
    "fixed_point_iteration(g3, x0_3)"
   ]
  }
 ],
 "metadata": {
  "kernelspec": {
   "display_name": "Python 3",
   "language": "python",
   "name": "python3"
  },
  "language_info": {
   "codemirror_mode": {
    "name": "ipython",
    "version": 3
   },
   "file_extension": ".py",
   "mimetype": "text/x-python",
   "name": "python",
   "nbconvert_exporter": "python",
   "pygments_lexer": "ipython3",
   "version": "3.12.4"
  }
 },
 "nbformat": 4,
 "nbformat_minor": 2
}
