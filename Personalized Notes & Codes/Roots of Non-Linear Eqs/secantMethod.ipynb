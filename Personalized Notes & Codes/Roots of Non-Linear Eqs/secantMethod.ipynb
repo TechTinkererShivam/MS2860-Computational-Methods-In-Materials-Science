{
 "cells": [
  {
   "cell_type": "code",
   "execution_count": 1,
   "metadata": {},
   "outputs": [
    {
     "name": "stdout",
     "output_type": "stream",
     "text": [
      "Root = -0.2679491924295727\n",
      "Function value at root = -2.291589140668293e-11\n"
     ]
    }
   ],
   "source": [
    "import numpy as np\n",
    "\n",
    "def f(x):\n",
    "    \"\"\"Define the function whose root we want to find.\"\"\"\n",
    "    return x**3 - 15*x - 4.0\n",
    "\n",
    "def secant_method(f, x0, x1, tol=1e-6, max_iter=100):\n",
    "    \"\"\"\n",
    "    Find the root of the function f using the Secant Method.\n",
    "    \n",
    "    Parameters:\n",
    "    f : function - The function for which to find the root\n",
    "    x0, x1 : float - Initial guesses for the root\n",
    "    tol : float - Tolerance for stopping criterion\n",
    "    max_iter : int - Maximum number of iterations\n",
    "    \n",
    "    Returns:\n",
    "    float - Approximate root of the function\n",
    "    \"\"\"\n",
    "    for _ in range(max_iter):\n",
    "        # Calculate the function values at the guesses\n",
    "        f_x0 = f(x0)\n",
    "        f_x1 = f(x1)\n",
    "\n",
    "        # Calculate the new approximation\n",
    "        x2 = x1 - f_x1 * (x1 - x0) / (f_x1 - f_x0)\n",
    "\n",
    "        # Check for convergence\n",
    "        if abs(x2 - x1) < tol:\n",
    "            return x2  # Root found\n",
    "\n",
    "        # Update guesses for the next iteration\n",
    "        x0, x1 = x1, x2\n",
    "\n",
    "    raise ValueError(\"Secant method did not converge within the maximum number of iterations.\")\n",
    "\n",
    "# Example usage\n",
    "x0 = -2  # First initial guess\n",
    "x1 = 2   # Second initial guess\n",
    "tolerance = 1e-6\n",
    "\n",
    "root = secant_method(f, x0, x1, tol=tolerance)\n",
    "print('Root =', root)\n",
    "print('Function value at root =', f(root))\n"
   ]
  }
 ],
 "metadata": {
  "kernelspec": {
   "display_name": "Python 3",
   "language": "python",
   "name": "python3"
  },
  "language_info": {
   "codemirror_mode": {
    "name": "ipython",
    "version": 3
   },
   "file_extension": ".py",
   "mimetype": "text/x-python",
   "name": "python",
   "nbconvert_exporter": "python",
   "pygments_lexer": "ipython3",
   "version": "3.12.4"
  }
 },
 "nbformat": 4,
 "nbformat_minor": 2
}
