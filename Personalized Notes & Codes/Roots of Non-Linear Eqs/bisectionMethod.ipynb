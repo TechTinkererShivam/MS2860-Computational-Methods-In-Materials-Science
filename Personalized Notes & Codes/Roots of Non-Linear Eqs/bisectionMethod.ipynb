{
 "cells": [
  {
   "cell_type": "code",
   "execution_count": 1,
   "metadata": {},
   "outputs": [
    {
     "name": "stdout",
     "output_type": "stream",
     "text": [
      "Root = -0.26794958114624023\n",
      "Function value at root = 5.747001171840793e-06\n"
     ]
    }
   ],
   "source": [
    "import numpy as np\n",
    "\n",
    "def f(x):\n",
    "    \"\"\"Define the function whose root we want to find.\"\"\"\n",
    "    return x**3 - 15*x - 4.0\n",
    "\n",
    "def bisection_method(f, a, b, tol=1e-6, max_iter=100):\n",
    "    \"\"\"\n",
    "    Find the root of the function f using the Bisection Method.\n",
    "    \n",
    "    Parameters:\n",
    "    f : function - The function for which to find the root\n",
    "    a, b : float - Interval endpoints where the function changes sign\n",
    "    tol : float - Tolerance for stopping criterion\n",
    "    max_iter : int - Maximum number of iterations\n",
    "    \n",
    "    Returns:\n",
    "    float - Approximate root of the function\n",
    "    \"\"\"\n",
    "    if f(a) * f(b) >= 0:\n",
    "        raise ValueError(\"Function must have different signs at a and b.\")\n",
    "    \n",
    "    for _ in range(max_iter):\n",
    "        c = (a + b) / 2  # Midpoint\n",
    "        f_c = f(c)\n",
    "\n",
    "        # Check for convergence\n",
    "        if abs(f_c) < tol or abs(b - a) < tol:\n",
    "            return c  # Root found\n",
    "\n",
    "        # Update the interval\n",
    "        if f(a) * f_c < 0:\n",
    "            b = c  # Root is in the left subinterval\n",
    "        else:\n",
    "            a = c  # Root is in the right subinterval\n",
    "\n",
    "    raise ValueError(\"Bisection method did not converge within the maximum number of iterations.\")\n",
    "\n",
    "# Example usage\n",
    "a = -2  # Lower bound of the interval\n",
    "b = 2   # Upper bound of the interval\n",
    "tolerance = 1e-6\n",
    "\n",
    "root = bisection_method(f, a, b, tol=tolerance)\n",
    "print('Root =', root)\n",
    "print('Function value at root =', f(root))\n"
   ]
  },
  {
   "cell_type": "markdown",
   "metadata": {},
   "source": [
    "----------\n",
    "----------"
   ]
  },
  {
   "cell_type": "markdown",
   "metadata": {},
   "source": [
    "## Bisection Method Code"
   ]
  },
  {
   "cell_type": "code",
   "execution_count": 3,
   "metadata": {},
   "outputs": [
    {
     "name": "stdout",
     "output_type": "stream",
     "text": [
      "\n",
      "\n",
      "*** BISECTION METHOD IMPLEMENTATION ***\n",
      "Iteration-1, x2 = 2.500000 and f(x2) = -5.875000\n",
      "Iteration-2, x2 = 2.750000 and f(x2) = -1.953125\n",
      "Iteration-3, x2 = 2.875000 and f(x2) = 0.388672\n",
      "Iteration-4, x2 = 2.812500 and f(x2) = -0.815186\n",
      "Iteration-5, x2 = 2.843750 and f(x2) = -0.221588\n",
      "Iteration-6, x2 = 2.859375 and f(x2) = 0.081448\n",
      "Iteration-7, x2 = 2.851562 and f(x2) = -0.070592\n",
      "Iteration-8, x2 = 2.855469 and f(x2) = 0.005297\n",
      "Iteration-9, x2 = 2.853516 and f(x2) = -0.032680\n",
      "Iteration-10, x2 = 2.854492 and f(x2) = -0.013700\n",
      "Iteration-11, x2 = 2.854980 and f(x2) = -0.004204\n",
      "Iteration-12, x2 = 2.855225 and f(x2) = 0.000546\n",
      "Iteration-13, x2 = 2.855103 and f(x2) = -0.001829\n",
      "Iteration-14, x2 = 2.855164 and f(x2) = -0.000641\n",
      "Iteration-15, x2 = 2.855194 and f(x2) = -0.000048\n",
      "Iteration-16, x2 = 2.855209 and f(x2) = 0.000249\n",
      "Iteration-17, x2 = 2.855202 and f(x2) = 0.000101\n",
      "Iteration-18, x2 = 2.855198 and f(x2) = 0.000027\n",
      "Iteration-19, x2 = 2.855196 and f(x2) = -0.000011\n",
      "Iteration-20, x2 = 2.855197 and f(x2) = 0.000008\n",
      "\n",
      "Required Root is : 2.85519695\n"
     ]
    }
   ],
   "source": [
    "# Defining Function\n",
    "def f(x):\n",
    "    return x**3-5*x-9\n",
    "\n",
    "# Implementing Bisection Method\n",
    "def bisection(x0,x1,e):\n",
    "    step = 1\n",
    "    print('\\n\\n*** BISECTION METHOD IMPLEMENTATION ***')\n",
    "    condition = True\n",
    "    while condition:\n",
    "        x2 = (x0 + x1)/2\n",
    "        print('Iteration-%d, x2 = %0.6f and f(x2) = %0.6f' % (step, x2, f(x2)))\n",
    "\n",
    "        if f(x0) * f(x2) < 0:\n",
    "            x1 = x2\n",
    "        else:\n",
    "            x0 = x2\n",
    "        \n",
    "        step = step + 1\n",
    "        condition = abs(f(x2)) > e\n",
    "\n",
    "    print('\\nRequired Root is : %0.8f' % x2)\n",
    "\n",
    "\n",
    "# Input Section\n",
    "x0 = input('First Guess: ')\n",
    "x1 = input('Second Guess: ')\n",
    "e = input('Tolerable Error: ')\n",
    "\n",
    "# Converting input to float\n",
    "x0 = float(x0)\n",
    "x1 = float(x1)\n",
    "e = float(e)\n",
    "\n",
    "#Note: You can combine above two section like this\n",
    "# x0 = float(input('First Guess: '))\n",
    "# x1 = float(input('Second Guess: '))\n",
    "# e = float(input('Tolerable Error: '))\n",
    "\n",
    "\n",
    "# Checking Correctness of initial guess values and bisecting\n",
    "if f(x0) * f(x1) > 0.0:\n",
    "    print('Given guess values do not bracket the root.')\n",
    "    print('Try Again with different guess values.')\n",
    "else:\n",
    "    bisection(x0,x1,e)"
   ]
  }
 ],
 "metadata": {
  "kernelspec": {
   "display_name": "Python 3",
   "language": "python",
   "name": "python3"
  },
  "language_info": {
   "codemirror_mode": {
    "name": "ipython",
    "version": 3
   },
   "file_extension": ".py",
   "mimetype": "text/x-python",
   "name": "python",
   "nbconvert_exporter": "python",
   "pygments_lexer": "ipython3",
   "version": "3.12.4"
  }
 },
 "nbformat": 4,
 "nbformat_minor": 2
}
