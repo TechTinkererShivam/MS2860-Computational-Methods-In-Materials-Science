{
 "cells": [
  {
   "cell_type": "code",
   "execution_count": 1,
   "metadata": {},
   "outputs": [
    {
     "name": "stdout",
     "output_type": "stream",
     "text": [
      "Root = 4.0\n",
      "Function value at root = 0.0\n"
     ]
    }
   ],
   "source": [
    "def f(x):\n",
    "    \"\"\"Define the function whose root we want to find.\"\"\"\n",
    "    return x**3 - 15*x - 4.0\n",
    "\n",
    "def df(x):\n",
    "    \"\"\"Define the derivative of the function.\"\"\"\n",
    "    return 3*x**2 - 15\n",
    "\n",
    "def newton_raphson(f, df, x0, tol=1e-6, max_iter=100):\n",
    "    \"\"\"\n",
    "    Find the root of the function f using the Newton-Raphson Method.\n",
    "    \n",
    "    Parameters:\n",
    "    f : function - The function for which to find the root\n",
    "    df : function - The derivative of the function\n",
    "    x0 : float - Initial guess for the root\n",
    "    tol : float - Tolerance for stopping criterion\n",
    "    max_iter : int - Maximum number of iterations\n",
    "    \n",
    "    Returns:\n",
    "    float - Approximate root of the function\n",
    "    \"\"\"\n",
    "    for _ in range(max_iter):\n",
    "        f_x0 = f(x0)\n",
    "        df_x0 = df(x0)\n",
    "\n",
    "        # Check if the derivative is zero to avoid division by zero\n",
    "        if df_x0 == 0:\n",
    "            raise ValueError(\"Derivative is zero. No solution found.\")\n",
    "\n",
    "        # Update the estimate using the Newton-Raphson formula\n",
    "        x1 = x0 - f_x0 / df_x0\n",
    "\n",
    "        # Check for convergence\n",
    "        if abs(x1 - x0) < tol:\n",
    "            return x1  # Root found\n",
    "\n",
    "        x0 = x1  # Update the guess for the next iteration\n",
    "\n",
    "    raise ValueError(\"Newton-Raphson method did not converge within the maximum number of iterations.\")\n",
    "\n",
    "# Example usage\n",
    "initial_guess = 3  # Initial guess for the root\n",
    "tolerance = 1e-6\n",
    "\n",
    "root = newton_raphson(f, df, initial_guess, tol=tolerance)\n",
    "print('Root =', root)\n",
    "print('Function value at root =', f(root))\n"
   ]
  }
 ],
 "metadata": {
  "kernelspec": {
   "display_name": "Python 3",
   "language": "python",
   "name": "python3"
  },
  "language_info": {
   "codemirror_mode": {
    "name": "ipython",
    "version": 3
   },
   "file_extension": ".py",
   "mimetype": "text/x-python",
   "name": "python",
   "nbconvert_exporter": "python",
   "pygments_lexer": "ipython3",
   "version": "3.12.4"
  }
 },
 "nbformat": 4,
 "nbformat_minor": 2
}
