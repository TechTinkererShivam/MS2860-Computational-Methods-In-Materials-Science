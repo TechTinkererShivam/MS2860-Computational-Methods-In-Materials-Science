{
 "cells": [
  {
   "cell_type": "code",
   "execution_count": 1,
   "metadata": {},
   "outputs": [
    {
     "name": "stdout",
     "output_type": "stream",
     "text": [
      "Solution vector x:\n",
      "[-4.5 -0.  -3. ]\n"
     ]
    }
   ],
   "source": [
    "import numpy as np\n",
    "\n",
    "# Function to perform Gauss elimination\n",
    "def gauss_elimination(A, b):\n",
    "    n = len(b)\n",
    "    \n",
    "    # Augmenting the matrix A with vector b\n",
    "    augmented_matrix = np.hstack([A, b.reshape(-1, 1)])\n",
    "\n",
    "    # Forward elimination to get an upper triangular matrix\n",
    "    for i in range(n):\n",
    "        # Pivoting (if necessary)\n",
    "        max_row = np.argmax(np.abs(augmented_matrix[i:n, i])) + i\n",
    "        augmented_matrix[[i, max_row]] = augmented_matrix[[max_row, i]]\n",
    "        \n",
    "        # Making the diagonal element 1 and eliminating below it\n",
    "        for j in range(i+1, n):\n",
    "            factor = augmented_matrix[j, i] / augmented_matrix[i, i]\n",
    "            augmented_matrix[j, i:] -= factor * augmented_matrix[i, i:]\n",
    "    \n",
    "    # Back substitution\n",
    "    x = np.zeros(n)\n",
    "    for i in range(n-1, -1, -1):\n",
    "        x[i] = (augmented_matrix[i, -1] - np.dot(augmented_matrix[i, i+1:n], x[i+1:n])) / augmented_matrix[i, i]\n",
    "    \n",
    "    return x\n",
    "\n",
    "# Example usage\n",
    "A = np.array([[2, -1, -2],\n",
    "              [-4, 6, 3],\n",
    "              [-4, -2, 8]], dtype=float)\n",
    "\n",
    "b = np.array([-3, 9, -6], dtype=float)\n",
    "\n",
    "solution = gauss_elimination(A, b)\n",
    "\n",
    "print(\"Solution vector x:\")\n",
    "print(solution)\n"
   ]
  }
 ],
 "metadata": {
  "kernelspec": {
   "display_name": "Python 3",
   "language": "python",
   "name": "python3"
  },
  "language_info": {
   "codemirror_mode": {
    "name": "ipython",
    "version": 3
   },
   "file_extension": ".py",
   "mimetype": "text/x-python",
   "name": "python",
   "nbconvert_exporter": "python",
   "pygments_lexer": "ipython3",
   "version": "3.12.4"
  }
 },
 "nbformat": 4,
 "nbformat_minor": 2
}
