{
 "cells": [
  {
   "cell_type": "markdown",
   "metadata": {},
   "source": [
    "### Code for Partial Pivoting Gaussian Elimination"
   ]
  },
  {
   "cell_type": "code",
   "execution_count": 4,
   "metadata": {},
   "outputs": [
    {
     "name": "stdout",
     "output_type": "stream",
     "text": [
      "Solution vector x:\n",
      "[7.84634679e+00 6.91056409e-05 7.68267077e-02]\n"
     ]
    }
   ],
   "source": [
    "import numpy as np\n",
    "\n",
    "def gaussian_elimination_partial_pivoting(A, b):\n",
    "    n = len(A)\n",
    "\n",
    "    # Forward Elimination with Partial Pivoting\n",
    "    for i in range(n):\n",
    "        # Partial Pivoting: Find the row with the largest element in the current column\n",
    "        max_row = max(range(i, n), key=lambda r: abs(A[r][i]))\n",
    "        # Swap the current row with the max_row in both A and b if needed\n",
    "        if i != max_row:\n",
    "            A[[i, max_row]] = A[[max_row, i]]\n",
    "            b[i], b[max_row] = b[max_row], b[i]\n",
    "\n",
    "        # Eliminate elements below the pivot\n",
    "        for j in range(i + 1, n):\n",
    "            factor = A[j][i] / A[i][i]\n",
    "            A[j] = A[j] - factor * A[i]\n",
    "            b[j] = b[j] - factor * b[i]\n",
    "\n",
    "    # Back Substitution to find the solution vector x\n",
    "    x = np.zeros(n)\n",
    "    for i in range(n - 1, -1, -1):\n",
    "        x[i] = (b[i] - np.dot(A[i, i + 1:], x[i + 1:])) / A[i, i]\n",
    "\n",
    "    return x\n",
    "\n",
    "# Input matrix A and vector b\n",
    "A = np.array([\n",
    "    [0.01, 10000, 3],\n",
    "    [2, 0.5, 2399],\n",
    "    [1, -0.003, 2]\n",
    "], dtype=float)\n",
    "\n",
    "b = np.array([1, 200, 8], dtype=float)\n",
    "\n",
    "# Solve the system using Gaussian Elimination with Partial Pivoting\n",
    "x = gaussian_elimination_partial_pivoting(A, b)\n",
    "\n",
    "print(\"Solution vector x:\")\n",
    "print(x)\n"
   ]
  },
  {
   "cell_type": "markdown",
   "metadata": {},
   "source": [
    "### Code for Scaled Partial Pivoting Gaussian Elimination"
   ]
  },
  {
   "cell_type": "code",
   "execution_count": 5,
   "metadata": {},
   "outputs": [
    {
     "name": "stdout",
     "output_type": "stream",
     "text": [
      "Solution vector x:\n",
      "[7.84634679e+00 6.91056409e-05 7.68267077e-02]\n"
     ]
    }
   ],
   "source": [
    "import numpy as np\n",
    "\n",
    "def scaled_partial_pivoting(A, b):\n",
    "    n = len(A)\n",
    "    # Scale factors: largest absolute value in each row\n",
    "    scale = np.max(np.abs(A), axis=1)\n",
    "\n",
    "    # Forward Elimination with Scaled Partial Pivoting\n",
    "    for i in range(n):\n",
    "        # Find the row with the largest scaled element in the current column\n",
    "        max_row = max(range(i, n), key=lambda r: abs(A[r][i]) / scale[r])\n",
    "\n",
    "        # Swap rows in both A and b if necessary\n",
    "        if i != max_row:\n",
    "            A[[i, max_row]] = A[[max_row, i]]\n",
    "            b[i], b[max_row] = b[max_row], b[i]\n",
    "            scale[i], scale[max_row] = scale[max_row], scale[i]\n",
    "\n",
    "        # Eliminate elements below the pivot\n",
    "        for j in range(i + 1, n):\n",
    "            factor = A[j][i] / A[i][i]\n",
    "            A[j] = A[j] - factor * A[i]\n",
    "            b[j] = b[j] - factor * b[i]\n",
    "\n",
    "    # Back Substitution to find the solution vector x\n",
    "    x = np.zeros(n)\n",
    "    for i in range(n - 1, -1, -1):\n",
    "        x[i] = (b[i] - np.dot(A[i, i + 1:], x[i + 1:])) / A[i, i]\n",
    "\n",
    "    return x\n",
    "\n",
    "# Input matrix A and vector b\n",
    "A = np.array([\n",
    "    [0.01, 10000, 3],\n",
    "    [2, 0.5, 2399],\n",
    "    [1, -0.003, 2]\n",
    "], dtype=float)\n",
    "\n",
    "b = np.array([1, 200, 8], dtype=float)\n",
    "\n",
    "# Solve the system using Scaled Partial Pivoting Gaussian Elimination\n",
    "x = scaled_partial_pivoting(A, b)\n",
    "\n",
    "print(\"Solution vector x:\")\n",
    "print(x)\n"
   ]
  }
 ],
 "metadata": {
  "kernelspec": {
   "display_name": "Python 3",
   "language": "python",
   "name": "python3"
  },
  "language_info": {
   "codemirror_mode": {
    "name": "ipython",
    "version": 3
   },
   "file_extension": ".py",
   "mimetype": "text/x-python",
   "name": "python",
   "nbconvert_exporter": "python",
   "pygments_lexer": "ipython3",
   "version": "3.12.4"
  }
 },
 "nbformat": 4,
 "nbformat_minor": 2
}
