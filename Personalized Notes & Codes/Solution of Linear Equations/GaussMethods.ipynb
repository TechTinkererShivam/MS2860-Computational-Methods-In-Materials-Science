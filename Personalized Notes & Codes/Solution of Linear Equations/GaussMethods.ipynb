{
 "cells": [
  {
   "cell_type": "markdown",
   "metadata": {},
   "source": [
    "#### Gauss-Jacobi Method:"
   ]
  },
  {
   "cell_type": "code",
   "execution_count": 5,
   "metadata": {},
   "outputs": [
    {
     "name": "stdout",
     "output_type": "stream",
     "text": [
      "Iteration 1: [ 0.6         2.27272727 -1.1         1.875     ]\n",
      "Iteration 2: [ 1.04727273  1.71590909 -0.80522727  2.58977273]\n",
      "Iteration 3: [ 0.93263636  1.58842975 -0.87888636  2.4178125 ]\n",
      "Iteration 4: [ 0.93462025  1.61821023 -0.88590305  2.36080036]\n",
      "Iteration 5: [ 0.93900163  1.63330147 -0.88902299  2.37109095]\n",
      "Iteration 6: [ 0.94113474  1.63060962 -0.88736108  2.37636018]\n",
      "Iteration 7: [ 0.94053318  1.62951756 -0.88752997  2.37555847]\n",
      "Iteration 8: [ 0.94045775  1.62966616 -0.88759903  2.37512784]\n",
      "Iteration 9: [ 0.94048642  1.62977047 -0.88761215  2.37517493]\n",
      "Iteration 10: [ 0.94049948  1.62975904 -0.88760274  2.37521241]\n",
      "Iteration 11: [ 0.94049645  1.62975086 -0.88760275  2.3752093 ]\n",
      "Iteration 12: [ 0.94049564  1.62975144 -0.88760327  2.37520623]\n",
      "Iteration 13: [ 0.9404958   1.62975215 -0.88760336  2.37520638]\n",
      "Iteration 14: [ 0.94049589  1.62975212 -0.88760331  2.37520664]\n",
      "Iteration 15: [ 0.94049587  1.62975206 -0.8876033   2.37520663]\n",
      "Iteration 16: [ 0.94049587  1.62975206 -0.88760331  2.37520661]\n",
      "Iteration 17: [ 0.94049587  1.62975207 -0.88760331  2.37520661]\n",
      "Iteration 18: [ 0.94049587  1.62975207 -0.88760331  2.37520661]\n",
      "Iteration 19: [ 0.94049587  1.62975207 -0.88760331  2.37520661]\n",
      "Iteration 20: [ 0.94049587  1.62975207 -0.88760331  2.37520661]\n",
      "Iteration 21: [ 0.94049587  1.62975207 -0.88760331  2.37520661]\n",
      "Iteration 22: [ 0.94049587  1.62975207 -0.88760331  2.37520661]\n",
      "Iteration 23: [ 0.94049587  1.62975207 -0.88760331  2.37520661]\n",
      "Iteration 24: [ 0.94049587  1.62975207 -0.88760331  2.37520661]\n",
      "Iteration 25: [ 0.94049587  1.62975207 -0.88760331  2.37520661]\n",
      "\n",
      "Final solution:\n",
      "[ 0.94049587  1.62975207 -0.88760331  2.37520661]\n"
     ]
    }
   ],
   "source": [
    "import numpy as np\n",
    "\n",
    "# Coefficient matrix A and constant vector b\n",
    "A = np.array([\n",
    "    [10, -1, 2, 0],\n",
    "    [-1, 11, -1, 3],\n",
    "    [2, -1, 10, -1],\n",
    "    [0, -3, -1, 8]\n",
    "], dtype=float)\n",
    "\n",
    "b = np.array([6, 25, -11, 15], dtype=float)\n",
    "\n",
    "# Initial guess for the solution (can be zeroes)\n",
    "x = np.zeros(len(b))\n",
    "\n",
    "# Number of iterations\n",
    "iterations = 25\n",
    "\n",
    "# Gauss-Jacobi method\n",
    "for k in range(iterations):\n",
    "    x_new = np.copy(x)\n",
    "    \n",
    "    for i in range(len(A)):\n",
    "        sum_ = 0\n",
    "        for j in range(len(A)):\n",
    "            if i != j:\n",
    "                sum_ += A[i][j] * x[j]\n",
    "        \n",
    "        x_new[i] = (b[i] - sum_) / A[i][i]\n",
    "    \n",
    "    # Update the solution vector for the next iteration\n",
    "    x = np.copy(x_new)\n",
    "    print(f\"Iteration {k+1}: {x}\")\n",
    "\n",
    "# Final result\n",
    "print(\"\\nFinal solution:\")\n",
    "print(x)\n"
   ]
  },
  {
   "cell_type": "markdown",
   "metadata": {},
   "source": [
    "#### Gauss-Seidel Method:"
   ]
  },
  {
   "cell_type": "code",
   "execution_count": 2,
   "metadata": {},
   "outputs": [
    {
     "name": "stdout",
     "output_type": "stream",
     "text": [
      "Iteration 1: [ 0.6         2.32727273 -0.98727273  2.62431818]\n",
      "Iteration 2: [ 1.03018182  1.56090496 -0.88751405  2.3494001 ]\n",
      "Iteration 3: [ 0.93359331  1.63617081 -0.88816157  2.37754386]\n",
      "Iteration 4: [ 0.9412494   1.62913239 -0.88758225  2.37497686]\n",
      "Iteration 5: [ 0.94042969  1.62981062 -0.88760719  2.37522808]\n",
      "Iteration 6: [ 0.9405025   1.62974646 -0.88760305  2.37520454]\n",
      "Iteration 7: [ 0.94049526  1.6297526  -0.88760334  2.37520681]\n",
      "Iteration 8: [ 0.94049593  1.62975202 -0.8876033   2.37520659]\n",
      "Iteration 9: [ 0.94049586  1.62975207 -0.88760331  2.37520661]\n",
      "Iteration 10: [ 0.94049587  1.62975207 -0.88760331  2.37520661]\n",
      "Iteration 11: [ 0.94049587  1.62975207 -0.88760331  2.37520661]\n",
      "Iteration 12: [ 0.94049587  1.62975207 -0.88760331  2.37520661]\n",
      "Iteration 13: [ 0.94049587  1.62975207 -0.88760331  2.37520661]\n",
      "Iteration 14: [ 0.94049587  1.62975207 -0.88760331  2.37520661]\n",
      "Iteration 15: [ 0.94049587  1.62975207 -0.88760331  2.37520661]\n",
      "Iteration 16: [ 0.94049587  1.62975207 -0.88760331  2.37520661]\n",
      "Iteration 17: [ 0.94049587  1.62975207 -0.88760331  2.37520661]\n",
      "Iteration 18: [ 0.94049587  1.62975207 -0.88760331  2.37520661]\n",
      "Iteration 19: [ 0.94049587  1.62975207 -0.88760331  2.37520661]\n",
      "Iteration 20: [ 0.94049587  1.62975207 -0.88760331  2.37520661]\n",
      "Iteration 21: [ 0.94049587  1.62975207 -0.88760331  2.37520661]\n",
      "Iteration 22: [ 0.94049587  1.62975207 -0.88760331  2.37520661]\n",
      "Iteration 23: [ 0.94049587  1.62975207 -0.88760331  2.37520661]\n",
      "Iteration 24: [ 0.94049587  1.62975207 -0.88760331  2.37520661]\n",
      "Iteration 25: [ 0.94049587  1.62975207 -0.88760331  2.37520661]\n",
      "\n",
      "Final solution:\n",
      "[ 0.94049587  1.62975207 -0.88760331  2.37520661]\n"
     ]
    }
   ],
   "source": [
    "import numpy as np\n",
    "\n",
    "# Coefficient matrix A and constant vector b\n",
    "A = np.array([\n",
    "    [10, -1, 2, 0],\n",
    "    [-1, 11, -1, 3],\n",
    "    [2, -1, 10, -1],\n",
    "    [0, -3, -1, 8]\n",
    "], dtype=float)\n",
    "\n",
    "b = np.array([6, 25, -11, 15], dtype=float)\n",
    "\n",
    "# Initial guess for the solution (can be zeroes)\n",
    "x = np.zeros(len(b))\n",
    "\n",
    "# Number of iterations\n",
    "iterations = 25\n",
    "\n",
    "# Gauss-Seidel method\n",
    "for k in range(iterations):\n",
    "    for i in range(len(A)):\n",
    "        sum_ = 0\n",
    "        for j in range(len(A)):\n",
    "            if i != j:\n",
    "                sum_ += A[i][j] * x[j]\n",
    "        \n",
    "        x[i] = (b[i] - sum_) / A[i][i]\n",
    "    \n",
    "    # Print the current state of the solution\n",
    "    print(f\"Iteration {k+1}: {x}\")\n",
    "\n",
    "# Final result\n",
    "print(\"\\nFinal solution:\")\n",
    "print(x)\n"
   ]
  },
  {
   "cell_type": "markdown",
   "metadata": {},
   "source": [
    "---"
   ]
  },
  {
   "cell_type": "markdown",
   "metadata": {},
   "source": [
    "$ Ques: $\n",
    "Which method converges faster?\n",
    "\n",
    "$ Ans: $\n",
    "The Gauss-Seidel method generally converges faster than the Gauss-Jacobi method. This is because Gauss-Seidel uses the most recently updated values of the solution during the iterations, leading to faster adjustments toward the correct solution."
   ]
  },
  {
   "cell_type": "markdown",
   "metadata": {},
   "source": [
    "Why Gauss-Seidel Converges Faster?\n",
    "\n",
    "* In Gauss-Jacobi, the updates for each variable are based on the values from the previous iteration, which means that all updates are done simultaneously.\n",
    "* In Gauss-Seidel, as soon as a variable's new value is computed, it is used immediately in the computation of the next variable, making each iteration potentially closer to the true solution."
   ]
  },
  {
   "cell_type": "markdown",
   "metadata": {},
   "source": [
    "##### Convergence Conditions:\n",
    "* Both methods require the coefficient matrix 𝐴 to be diagonally dominant or symmetric positive definite to ensure convergence.\n",
    "* Diagonal dominance means that the absolute value of the diagonal element in each row is greater than the sum of the absolute values of the other elements in that row."
   ]
  },
  {
   "cell_type": "markdown",
   "metadata": {},
   "source": [
    "#### Thus, when both methods converge, Gauss-Seidel will usually reach the solution in fewer iterations than Gauss-Jacobi."
   ]
  }
 ],
 "metadata": {
  "kernelspec": {
   "display_name": "Python 3",
   "language": "python",
   "name": "python3"
  },
  "language_info": {
   "codemirror_mode": {
    "name": "ipython",
    "version": 3
   },
   "file_extension": ".py",
   "mimetype": "text/x-python",
   "name": "python",
   "nbconvert_exporter": "python",
   "pygments_lexer": "ipython3",
   "version": "3.12.4"
  }
 },
 "nbformat": 4,
 "nbformat_minor": 2
}
