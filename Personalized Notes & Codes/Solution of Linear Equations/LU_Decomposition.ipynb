{
 "cells": [
  {
   "cell_type": "code",
   "execution_count": 1,
   "metadata": {},
   "outputs": [
    {
     "name": "stdout",
     "output_type": "stream",
     "text": [
      "Matrix A:\n",
      "[[ 2. -1. -2.]\n",
      " [-4.  6.  3.]\n",
      " [-4. -2.  8.]]\n",
      "\n",
      "Lower triangular matrix L:\n",
      "[[ 1.  0.  0.]\n",
      " [-2.  1.  0.]\n",
      " [-2. -1.  1.]]\n",
      "\n",
      "Upper triangular matrix U:\n",
      "[[ 2. -1. -2.]\n",
      " [ 0.  4. -1.]\n",
      " [ 0.  0.  3.]]\n"
     ]
    }
   ],
   "source": [
    "import numpy as np\n",
    "\n",
    "# Function to perform LU decomposition\n",
    "def lu_decomposition(A):\n",
    "    n = len(A)\n",
    "    L = np.zeros((n, n))\n",
    "    U = np.zeros((n, n))\n",
    "\n",
    "    # Decomposing matrix into Upper and Lower triangular matrices\n",
    "    for i in range(n):\n",
    "        # Upper triangular\n",
    "        for k in range(i, n):\n",
    "            sum = 0\n",
    "            for j in range(i):\n",
    "                sum += (L[i][j] * U[j][k])\n",
    "            U[i][k] = A[i][k] - sum\n",
    "\n",
    "        # Lower triangular\n",
    "        for k in range(i, n):\n",
    "            if i == k:\n",
    "                L[i][i] = 1  # Diagonal as 1\n",
    "            else:\n",
    "                sum = 0\n",
    "                for j in range(i):\n",
    "                    sum += (L[k][j] * U[j][i])\n",
    "                L[k][i] = (A[k][i] - sum) / U[i][i]\n",
    "\n",
    "    return L, U\n",
    "\n",
    "# Example usage\n",
    "A = np.array([[2, -1, -2],\n",
    "              [-4, 6, 3],\n",
    "              [-4, -2, 8]], dtype=float)\n",
    "\n",
    "L, U = lu_decomposition(A)\n",
    "\n",
    "print(\"Matrix A:\")\n",
    "print(A)\n",
    "print(\"\\nLower triangular matrix L:\")\n",
    "print(L)\n",
    "print(\"\\nUpper triangular matrix U:\")\n",
    "print(U)\n"
   ]
  },
  {
   "cell_type": "markdown",
   "metadata": {},
   "source": [
    "------------------------\n",
    "------------------------"
   ]
  },
  {
   "cell_type": "markdown",
   "metadata": {},
   "source": [
    "Question:\n",
    "The system of equations is:\n",
    "\n",
    "                                1x+1y+1z=2\n",
    "                                6x−4y+5z=31\n",
    "                                5x+2y+2z=13"
   ]
  },
  {
   "cell_type": "code",
   "execution_count": 2,
   "metadata": {},
   "outputs": [
    {
     "name": "stdout",
     "output_type": "stream",
     "text": [
      "Solution vector x:\n",
      "[ 3. -2.  1.]\n"
     ]
    }
   ],
   "source": [
    "### LU Decomposition\n",
    "\n",
    "import numpy as np\n",
    "\n",
    "# Function to perform LU decomposition\n",
    "def lu_decomposition(A):\n",
    "    n = len(A)\n",
    "    L = np.zeros((n, n))\n",
    "    U = np.zeros((n, n))\n",
    "\n",
    "    # Decomposing matrix into Upper and Lower triangular matrices\n",
    "    for i in range(n):\n",
    "        # Upper triangular\n",
    "        for k in range(i, n):\n",
    "            sum = 0\n",
    "            for j in range(i):\n",
    "                sum += (L[i][j] * U[j][k])\n",
    "            U[i][k] = A[i][k] - sum\n",
    "\n",
    "        # Lower triangular\n",
    "        for k in range(i, n):\n",
    "            if i == k:\n",
    "                L[i][i] = 1  # Diagonal as 1\n",
    "            else:\n",
    "                sum = 0\n",
    "                for j in range(i):\n",
    "                    sum += (L[k][j] * U[j][i])\n",
    "                L[k][i] = (A[k][i] - sum) / U[i][i]\n",
    "\n",
    "    return L, U\n",
    "\n",
    "# Function to perform forward substitution\n",
    "def forward_substitution(L, b):\n",
    "    n = len(b)\n",
    "    y = np.zeros_like(b)\n",
    "\n",
    "    for i in range(n):\n",
    "        y[i] = (b[i] - np.dot(L[i, :i], y[:i]))\n",
    "\n",
    "    return y\n",
    "\n",
    "# Function to perform back substitution\n",
    "def back_substitution(U, y):\n",
    "    n = len(y)\n",
    "    x = np.zeros_like(y)\n",
    "\n",
    "    for i in range(n-1, -1, -1):\n",
    "        x[i] = (y[i] - np.dot(U[i, i+1:], x[i+1:])) / U[i, i]\n",
    "\n",
    "    return x\n",
    "\n",
    "# Example system\n",
    "A = np.array([[1, 1, 1],\n",
    "              [6, -4, 5],\n",
    "              [5, 2, 2]], dtype=float)\n",
    "\n",
    "b = np.array([2, 31, 13], dtype=float)\n",
    "\n",
    "# Perform LU decomposition\n",
    "L, U = lu_decomposition(A)\n",
    "\n",
    "# Solve Ly = b using forward substitution\n",
    "y = forward_substitution(L, b)\n",
    "\n",
    "# Solve Ux = y using back substitution\n",
    "x = back_substitution(U, y)\n",
    "\n",
    "print(\"Solution vector x:\")\n",
    "print(x)\n"
   ]
  },
  {
   "cell_type": "code",
   "execution_count": 4,
   "metadata": {},
   "outputs": [
    {
     "name": "stdout",
     "output_type": "stream",
     "text": [
      "Solution vector x:\n",
      "[ 3. -2.  1.]\n"
     ]
    }
   ],
   "source": [
    "# Gauss Elimination Method\n",
    "\n",
    "import numpy as np\n",
    "\n",
    "# Function to perform Gauss elimination\n",
    "def gauss_elimination(A, b):\n",
    "    n = len(b)\n",
    "    \n",
    "    # Augmenting the matrix A with vector b\n",
    "    augmented_matrix = np.hstack([A, b.reshape(-1, 1)])\n",
    "\n",
    "    # Forward elimination to get an upper triangular matrix\n",
    "    for i in range(n):\n",
    "        # Pivoting (if necessary)\n",
    "        max_row = np.argmax(np.abs(augmented_matrix[i:n, i])) + i\n",
    "        augmented_matrix[[i, max_row]] = augmented_matrix[[max_row, i]]\n",
    "        \n",
    "        # Making the diagonal element 1 and eliminating below it\n",
    "        for j in range(i+1, n):\n",
    "            factor = augmented_matrix[j, i] / augmented_matrix[i, i]\n",
    "            augmented_matrix[j, i:] -= factor * augmented_matrix[i, i:]\n",
    "    \n",
    "    # Back substitution\n",
    "    x = np.zeros(n)\n",
    "    for i in range(n-1, -1, -1):\n",
    "        x[i] = (augmented_matrix[i, -1] - np.dot(augmented_matrix[i, i+1:n], x[i+1:n])) / augmented_matrix[i, i]\n",
    "    \n",
    "    return x\n",
    "\n",
    "# Example system\n",
    "A = np.array([[1, 1, 1],\n",
    "              [6, -4, 5],\n",
    "              [5, 2, 2]], dtype=float)\n",
    "\n",
    "b = np.array([2, 31, 13], dtype=float)\n",
    "\n",
    "# Solve using Gauss Elimination\n",
    "solution = gauss_elimination(A, b)\n",
    "\n",
    "print(\"Solution vector x:\")\n",
    "print(solution)\n"
   ]
  },
  {
   "cell_type": "code",
   "execution_count": null,
   "metadata": {},
   "outputs": [],
   "source": []
  }
 ],
 "metadata": {
  "kernelspec": {
   "display_name": "Python 3",
   "language": "python",
   "name": "python3"
  },
  "language_info": {
   "codemirror_mode": {
    "name": "ipython",
    "version": 3
   },
   "file_extension": ".py",
   "mimetype": "text/x-python",
   "name": "python",
   "nbconvert_exporter": "python",
   "pygments_lexer": "ipython3",
   "version": "3.12.4"
  }
 },
 "nbformat": 4,
 "nbformat_minor": 2
}
