{
 "cells": [
  {
   "cell_type": "code",
   "execution_count": 69,
   "metadata": {},
   "outputs": [],
   "source": [
    "import numpy as np\n",
    "import matplotlib.pyplot as plt"
   ]
  },
  {
   "cell_type": "markdown",
   "metadata": {},
   "source": [
    "2(b)"
   ]
  },
  {
   "cell_type": "code",
   "execution_count": 73,
   "metadata": {},
   "outputs": [
    {
     "name": "stdout",
     "output_type": "stream",
     "text": [
      "7 iterations\n",
      "square root of 121 is 11.0\n",
      "-----------------------------------------------\n",
      "13 iterations\n",
      "square root of 2e-06 is 0.001414213562373095\n",
      "-----------------------------------------------\n",
      "19 iterations\n",
      "square root of 987654321 is 31426.968052931865\n"
     ]
    }
   ],
   "source": [
    "# define the function\n",
    "def f(x,N):\n",
    "    return x**2-N\n",
    "\n",
    "# code to find square root\n",
    "def square_root(f,x0,N,tol=1e-9):\n",
    "    for i in range(500):\n",
    "        x = 1/2 * (x0 + N/x0)\n",
    "        if(abs(x-x0)/abs(x0)<tol):\n",
    "            print(f\"{i+1} iterations\")\n",
    "            return x\n",
    "        else:\n",
    "            x0 = x\n",
    "    return None\n",
    "\n",
    "# function call\n",
    "# N = 121\n",
    "N = 121\n",
    "x0 = 1/2*(N+1)\n",
    "print(f\"square root of {N} is {square_root(f,x0,N)}\")\n",
    "\n",
    "print(\"-----------------------------------------------\")\n",
    "\n",
    "# N = 0.000002\n",
    "N = 0.000002\n",
    "x0 = 1/2*(N+1)\n",
    "print(f\"square root of {N} is {square_root(f,x0,N)}\")\n",
    "\n",
    "print(\"-----------------------------------------------\")\n",
    "\n",
    "# N = 987654321\n",
    "N = 987654321\n",
    "x0 = 1/2*(N+1)\n",
    "print(f\"square root of {N} is {square_root(f,x0,N)}\")\n",
    "\n",
    "\n"
   ]
  },
  {
   "cell_type": "markdown",
   "metadata": {},
   "source": [
    "2(c)"
   ]
  },
  {
   "cell_type": "code",
   "execution_count": 74,
   "metadata": {},
   "outputs": [],
   "source": [
    "# Code of Newton's Method\n",
    "def newton(f, f1, x0, N, tol = 1e-9):\n",
    "    for i in range(500):\n",
    "        x = x0 - f(x0,N)/f1(x0)\n",
    "        if abs(f(x,N)) < tol:\n",
    "            return f\"root at {x:.5f} found in {i + 1} iterations\"\n",
    "        x0 = x\n",
    "    return f\"could not find in {i + 1} iterations, final value: {f(x)} at x = {x:.5f}\""
   ]
  },
  {
   "cell_type": "code",
   "execution_count": 75,
   "metadata": {},
   "outputs": [],
   "source": [
    "# defining the functions\n",
    "from math import cos, sin\n",
    "def f(x,N):\n",
    "    return x**2-N\n",
    "def f1(x):\n",
    "    return 2*x"
   ]
  },
  {
   "cell_type": "code",
   "execution_count": 76,
   "metadata": {},
   "outputs": [
    {
     "name": "stdout",
     "output_type": "stream",
     "text": [
      "square root of 121 is root at 11.00000 found in 7 iterations\n",
      "square root of 2e-06 is root at 0.00141 found in 11 iterations\n",
      "square root of 987654321 is root at 31426.96805 found in 19 iterations\n"
     ]
    }
   ],
   "source": [
    "# function call\n",
    "# N = 121\n",
    "N = 121\n",
    "x0 = 1/2*(N+1)\n",
    "print(f\"square root of {N} is {newton(f,f1,x0,N)}\")\n",
    "\n",
    "# N = 0.000002\n",
    "N = 0.000002\n",
    "x0 = 1/2*(N+1)\n",
    "print(f\"square root of {N} is {newton(f,f1,x0,N)}\")\n",
    "\n",
    "# N = 987654321\n",
    "N = 987654321\n",
    "x0 = 1/2*(N+1)\n",
    "print(f\"square root of {N} is {newton(f,f1,x0,N)}\")"
   ]
  },
  {
   "cell_type": "markdown",
   "metadata": {},
   "source": [
    "In both the cases, number of iterations are approx. same"
   ]
  },
  {
   "cell_type": "code",
   "execution_count": 28,
   "metadata": {},
   "outputs": [
    {
     "name": "stdout",
     "output_type": "stream",
     "text": [
      "11.0\n",
      "0.001414213562373095\n",
      "31426.968052931865\n"
     ]
    }
   ],
   "source": [
    "print(np.sqrt(121))\n",
    "print(np.sqrt(0.000002))\n",
    "print(np.sqrt(987654321))"
   ]
  },
  {
   "cell_type": "markdown",
   "metadata": {},
   "source": [
    "square root using newton's method and built-in functions are approx same!"
   ]
  },
  {
   "cell_type": "markdown",
   "metadata": {},
   "source": [
    "# Ques 3"
   ]
  },
  {
   "cell_type": "code",
   "execution_count": 30,
   "metadata": {},
   "outputs": [
    {
     "name": "stdout",
     "output_type": "stream",
     "text": [
      "\n",
      "Final solution:\n",
      "[ 1. -1.  1.]\n"
     ]
    }
   ],
   "source": [
    "import numpy as np\n",
    "\n",
    "# Coefficient matrix A and constant vector b\n",
    "A = np.array([\n",
    "    [20, 2, -5],\n",
    "    [5, -20, 2],\n",
    "    [4, 5, 20],\n",
    "], dtype=float)\n",
    "\n",
    "b = np.array([13, 27, 19], dtype=float)\n",
    "x = np.zeros(len(b))\n",
    "\n",
    "# Number of iterations\n",
    "iterations = 25\n",
    "\n",
    "# Gauss-Jacobi method\n",
    "for k in range(iterations):\n",
    "    x_new = np.copy(x)\n",
    "    \n",
    "    for i in range(len(A)):\n",
    "        sum_ = 0\n",
    "        for j in range(len(A)):\n",
    "            if i != j:\n",
    "                sum_ += A[i][j] * x[j]\n",
    "        \n",
    "        x_new[i] = (b[i] - sum_) / A[i][i]\n",
    "    \n",
    "\n",
    "    x = np.copy(x_new)\n",
    "\n",
    "# Final result\n",
    "print(\"\\nFinal solution:\")\n",
    "print(x)"
   ]
  },
  {
   "cell_type": "code",
   "execution_count": 31,
   "metadata": {},
   "outputs": [
    {
     "name": "stdout",
     "output_type": "stream",
     "text": [
      "\n",
      "Final solution:\n",
      "[2.59636478e+10 1.40928068e+10 1.27738244e+10]\n"
     ]
    }
   ],
   "source": [
    "import numpy as np\n",
    "\n",
    "# Coefficient matrix A\n",
    "A = np.array([\n",
    "    [1, 2, 3],\n",
    "    [4, 5, 6],\n",
    "    [7, 8, 9],\n",
    "], dtype=float)\n",
    "\n",
    "b = np.array([6, 15, 24], dtype=float)\n",
    "\n",
    "x = np.zeros(len(b))\n",
    "\n",
    "# Number of iterations\n",
    "iterations = 25\n",
    "\n",
    "# Gauss-Jacobi method\n",
    "for k in range(iterations):\n",
    "    x_new = np.copy(x)\n",
    "    \n",
    "    for i in range(len(A)):\n",
    "        sum_ = 0\n",
    "        for j in range(len(A)):\n",
    "            if i != j:\n",
    "                sum_ += A[i][j] * x[j]\n",
    "        \n",
    "        x_new[i] = (b[i] - sum_) / A[i][i]\n",
    "    \n",
    "    x = np.copy(x_new)\n",
    "\n",
    "# Final result\n",
    "print(\"\\nFinal solution:\")\n",
    "print(x)"
   ]
  },
  {
   "cell_type": "code",
   "execution_count": 43,
   "metadata": {},
   "outputs": [],
   "source": [
    "# Yes, I am able to find out solution for both the cases"
   ]
  },
  {
   "cell_type": "code",
   "execution_count": 44,
   "metadata": {},
   "outputs": [],
   "source": [
    "# A = D + L + U"
   ]
  },
  {
   "cell_type": "code",
   "execution_count": 45,
   "metadata": {},
   "outputs": [],
   "source": [
    "import numpy as np\n",
    "\n",
    "# Function to perform LU decomposition\n",
    "def lu_decomposition(A):\n",
    "    n = len(A)\n",
    "    L = np.zeros((n, n))\n",
    "    U = np.zeros((n, n))\n",
    "\n",
    "    # Decomposing matrix into Upper and Lower triangular matrices\n",
    "    for i in range(n):\n",
    "        # Upper triangular\n",
    "        for k in range(i, n):\n",
    "            sum = 0\n",
    "            for j in range(i):\n",
    "                sum += (L[i][j] * U[j][k])\n",
    "            U[i][k] = A[i][k] - sum\n",
    "\n",
    "        # Lower triangular\n",
    "        for k in range(i, n):\n",
    "            if i == k:\n",
    "                L[i][i] = 1  # Diagonal as 1\n",
    "            else:\n",
    "                sum = 0\n",
    "                for j in range(i):\n",
    "                    sum += (L[k][j] * U[j][i])\n",
    "                L[k][i] = (A[k][i] - sum) / U[i][i]\n",
    "\n",
    "    return L, U"
   ]
  },
  {
   "cell_type": "code",
   "execution_count": 47,
   "metadata": {},
   "outputs": [
    {
     "name": "stdout",
     "output_type": "stream",
     "text": [
      "Matrix A:\n",
      "[[ 20.   2.  -5.]\n",
      " [  5. -20.   2.]\n",
      " [  4.   5.  20.]]\n",
      "\n",
      "Lower triangular matrix L:\n",
      "[[ 1.          0.          0.        ]\n",
      " [ 0.25        1.          0.        ]\n",
      " [ 0.2        -0.22439024  1.        ]]\n",
      "\n",
      "Upper triangular matrix U:\n",
      "[[ 20.           2.          -5.        ]\n",
      " [  0.         -20.5          3.25      ]\n",
      " [  0.           0.          21.72926829]]\n",
      "[[ 20.   2.  -5.]\n",
      " [  5. -20.   2.]\n",
      " [  4.   5.  20.]]\n",
      "[[ 41.           2.          -5.        ]\n",
      " [  0.25       -39.5          3.25      ]\n",
      " [  0.2         -0.22439024  42.72926829]]\n"
     ]
    }
   ],
   "source": [
    "\n",
    "A = np.array([[20, 2, -5],\n",
    "              [5, -20, 2],\n",
    "              [4, 5, 20]], dtype=float)\n",
    "\n",
    "L, U = lu_decomposition(A)\n",
    "print(\"Matrix A:\")\n",
    "print(A)\n",
    "print(\"\\nLower triangular matrix L:\")\n",
    "print(L)\n",
    "print(\"\\nUpper triangular matrix U:\")\n",
    "print(U)\n",
    "\n",
    "D = np.array([[20, 0, 0],\n",
    "              [0, -20, 0],\n",
    "              [0, 0, 20]], dtype=float)\n",
    "\n",
    "print(A)\n",
    "print(D+L+U)"
   ]
  },
  {
   "cell_type": "code",
   "execution_count": 48,
   "metadata": {},
   "outputs": [
    {
     "name": "stdout",
     "output_type": "stream",
     "text": [
      "[[-1.05       -0.1         0.25      ]\n",
      " [ 0.0125     -0.975       0.1625    ]\n",
      " [-0.01        0.01121951 -1.13646341]]\n"
     ]
    }
   ],
   "source": [
    "Tj = -1*np.linalg.inv(D)@(L+U)\n",
    "print(Tj)"
   ]
  },
  {
   "cell_type": "code",
   "execution_count": 58,
   "metadata": {},
   "outputs": [
    {
     "name": "stdout",
     "output_type": "stream",
     "text": [
      "[-3.08662415  1.40623141 -0.03071837]\n",
      "3.086624146656545\n"
     ]
    }
   ],
   "source": [
    "e_values, e_vectors = np.linalg.eig(Tj)\n",
    "print(e_values)\n",
    "print(np.max(abs(e_values)))"
   ]
  },
  {
   "cell_type": "code",
   "execution_count": 59,
   "metadata": {},
   "outputs": [],
   "source": [
    "import numpy as np\n",
    "\n",
    "# Function to perform LU decomposition\n",
    "def lu_decomposition(A):\n",
    "    n = len(A)\n",
    "    L = np.zeros((n, n))\n",
    "    U = np.zeros((n, n))\n",
    "\n",
    "    # Decomposing matrix into Upper and Lower triangular matrices\n",
    "    for i in range(n):\n",
    "        # Upper triangular\n",
    "        for k in range(i, n):\n",
    "            sum = 0\n",
    "            for j in range(i):\n",
    "                sum += (L[i][j] * U[j][k])\n",
    "            U[i][k] = A[i][k] - sum\n",
    "\n",
    "        # Lower triangular\n",
    "        for k in range(i, n):\n",
    "            if i == k:\n",
    "                L[i][i] = 1  # Diagonal as 1\n",
    "            else:\n",
    "                sum = 0\n",
    "                for j in range(i):\n",
    "                    sum += (L[k][j] * U[j][i])\n",
    "                L[k][i] = (A[k][i] - sum) / U[i][i]\n",
    "\n",
    "    return L, U"
   ]
  },
  {
   "cell_type": "code",
   "execution_count": 60,
   "metadata": {},
   "outputs": [
    {
     "name": "stdout",
     "output_type": "stream",
     "text": [
      "Matrix A:\n",
      "[[1. 2. 3.]\n",
      " [4. 5. 6.]\n",
      " [7. 8. 9.]]\n",
      "\n",
      "Lower triangular matrix L:\n",
      "[[1. 0. 0.]\n",
      " [4. 1. 0.]\n",
      " [7. 2. 1.]]\n",
      "\n",
      "Upper triangular matrix U:\n",
      "[[ 1.  2.  3.]\n",
      " [ 0. -3. -6.]\n",
      " [ 0.  0.  0.]]\n",
      "[[1. 2. 3.]\n",
      " [4. 5. 6.]\n",
      " [7. 8. 9.]]\n",
      "[[ 3.  2.  3.]\n",
      " [ 4.  3. -6.]\n",
      " [ 7.  2. 10.]]\n"
     ]
    }
   ],
   "source": [
    "# Example usage\n",
    "A = np.array([[1, 2, 3],\n",
    "              [4, 5, 6],\n",
    "              [7, 8, 9]], dtype=float)\n",
    "\n",
    "L, U = lu_decomposition(A)\n",
    "print(\"Matrix A:\")\n",
    "print(A)\n",
    "print(\"\\nLower triangular matrix L:\")\n",
    "print(L)\n",
    "print(\"\\nUpper triangular matrix U:\")\n",
    "print(U)\n",
    "\n",
    "D = np.array([[1, 0, 0],\n",
    "              [0, 5, 0],\n",
    "              [0, 0, 9]], dtype=float)\n",
    "\n",
    "print(A)\n",
    "print(D+L+U)"
   ]
  },
  {
   "cell_type": "code",
   "execution_count": 61,
   "metadata": {},
   "outputs": [
    {
     "name": "stdout",
     "output_type": "stream",
     "text": [
      "[[-2.         -2.         -3.        ]\n",
      " [-0.8         0.4         1.2       ]\n",
      " [-0.77777778 -0.22222222 -0.11111111]]\n"
     ]
    }
   ],
   "source": [
    "Tj = -1*np.linalg.inv(D)@(L+U)\n",
    "print(Tj)"
   ]
  },
  {
   "cell_type": "code",
   "execution_count": 62,
   "metadata": {},
   "outputs": [
    {
     "name": "stdout",
     "output_type": "stream",
     "text": [
      "[-3.08662415  1.40623141 -0.03071837]\n",
      "3.086624146656545\n"
     ]
    }
   ],
   "source": [
    "e_values, e_vectors = np.linalg.eig(Tj)\n",
    "print(e_values)\n",
    "print(np.max(abs(e_values)))"
   ]
  },
  {
   "cell_type": "markdown",
   "metadata": {},
   "source": [
    "### Q4 Soln"
   ]
  },
  {
   "cell_type": "code",
   "execution_count": 67,
   "metadata": {},
   "outputs": [
    {
     "ename": "ValueError",
     "evalue": "Fixed Point Method did not converge within the maximum number of iterations.",
     "output_type": "error",
     "traceback": [
      "\u001b[1;31m---------------------------------------------------------------------------\u001b[0m",
      "\u001b[1;31mValueError\u001b[0m                                Traceback (most recent call last)",
      "Cell \u001b[1;32mIn[67], line 22\u001b[0m\n\u001b[0;32m     19\u001b[0m y0 \u001b[38;5;241m=\u001b[39m \u001b[38;5;241m2\u001b[39m\n\u001b[0;32m     20\u001b[0m tolerance \u001b[38;5;241m=\u001b[39m \u001b[38;5;241m1e-6\u001b[39m\n\u001b[1;32m---> 22\u001b[0m root \u001b[38;5;241m=\u001b[39m \u001b[43mfixed_point\u001b[49m\u001b[43m(\u001b[49m\u001b[43mg\u001b[49m\u001b[43m,\u001b[49m\u001b[43m \u001b[49m\u001b[43mx0\u001b[49m\u001b[43m,\u001b[49m\u001b[43m \u001b[49m\u001b[43my0\u001b[49m\u001b[43m \u001b[49m\u001b[43m,\u001b[49m\u001b[43mtol\u001b[49m\u001b[38;5;241;43m=\u001b[39;49m\u001b[43mtolerance\u001b[49m\u001b[43m)\u001b[49m\n\u001b[0;32m     23\u001b[0m \u001b[38;5;28mprint\u001b[39m(\u001b[38;5;124m'\u001b[39m\u001b[38;5;124mRoot =\u001b[39m\u001b[38;5;124m'\u001b[39m, root)\n\u001b[0;32m     24\u001b[0m \u001b[38;5;28mprint\u001b[39m(\u001b[38;5;124m'\u001b[39m\u001b[38;5;124mFunction value at root =\u001b[39m\u001b[38;5;124m'\u001b[39m, g(root))\n",
      "Cell \u001b[1;32mIn[67], line 15\u001b[0m, in \u001b[0;36mfixed_point\u001b[1;34m(g, x0, y0, tol, max_iter)\u001b[0m\n\u001b[0;32m     11\u001b[0m         \u001b[38;5;28;01mreturn\u001b[39;00m x1  \u001b[38;5;66;03m# Root found\u001b[39;00m\n\u001b[0;32m     13\u001b[0m     x0 \u001b[38;5;241m=\u001b[39m x1  \u001b[38;5;66;03m# Update the guess for the next iteration\u001b[39;00m\n\u001b[1;32m---> 15\u001b[0m \u001b[38;5;28;01mraise\u001b[39;00m \u001b[38;5;167;01mValueError\u001b[39;00m(\u001b[38;5;124m\"\u001b[39m\u001b[38;5;124mFixed Point Method did not converge within the maximum number of iterations.\u001b[39m\u001b[38;5;124m\"\u001b[39m)\n",
      "\u001b[1;31mValueError\u001b[0m: Fixed Point Method did not converge within the maximum number of iterations."
     ]
    }
   ],
   "source": [
    "# (b)\n",
    "def g(x,y):\n",
    "    return 4*y - x**2\n",
    "\n",
    "def fixed_point(g, x0,y0, tol=1e-6, max_iter=10):\n",
    "    for _ in range(max_iter):\n",
    "        x1 = g(x0,y0)  # Update the guess\n",
    "        \n",
    "        # Check for convergence\n",
    "        if abs(x1 - x0) < tol:\n",
    "            return x1  # Root found\n",
    "\n",
    "        x0 = x1  # Update the guess for the next iteration\n",
    "\n",
    "    raise ValueError(\"Fixed Point Method did not converge within the maximum number of iterations.\")\n",
    "\n",
    "# Example usage\n",
    "x0= 2  \n",
    "y0 = 2\n",
    "tolerance = 1e-6\n",
    "\n",
    "root = fixed_point(g, x0, y0 ,tol=tolerance)\n",
    "print('Root =', root)\n",
    "print('Function value at root =', g(root))"
   ]
  },
  {
   "cell_type": "code",
   "execution_count": 68,
   "metadata": {},
   "outputs": [
    {
     "ename": "ValueError",
     "evalue": "Fixed Point Method did not converge within the maximum number of iterations.",
     "output_type": "error",
     "traceback": [
      "\u001b[1;31m---------------------------------------------------------------------------\u001b[0m",
      "\u001b[1;31mValueError\u001b[0m                                Traceback (most recent call last)",
      "Cell \u001b[1;32mIn[68], line 22\u001b[0m\n\u001b[0;32m     19\u001b[0m y0 \u001b[38;5;241m=\u001b[39m \u001b[38;5;241m2\u001b[39m\n\u001b[0;32m     20\u001b[0m tolerance \u001b[38;5;241m=\u001b[39m \u001b[38;5;241m1e-6\u001b[39m\n\u001b[1;32m---> 22\u001b[0m root \u001b[38;5;241m=\u001b[39m \u001b[43mfixed_point\u001b[49m\u001b[43m(\u001b[49m\u001b[43mg\u001b[49m\u001b[43m,\u001b[49m\u001b[43m \u001b[49m\u001b[43mx0\u001b[49m\u001b[43m,\u001b[49m\u001b[43m \u001b[49m\u001b[43my0\u001b[49m\u001b[43m \u001b[49m\u001b[43m,\u001b[49m\u001b[43mtol\u001b[49m\u001b[38;5;241;43m=\u001b[39;49m\u001b[43mtolerance\u001b[49m\u001b[43m)\u001b[49m\n\u001b[0;32m     23\u001b[0m \u001b[38;5;28mprint\u001b[39m(\u001b[38;5;124m'\u001b[39m\u001b[38;5;124mRoot =\u001b[39m\u001b[38;5;124m'\u001b[39m, root)\n\u001b[0;32m     24\u001b[0m \u001b[38;5;28mprint\u001b[39m(\u001b[38;5;124m'\u001b[39m\u001b[38;5;124mFunction value at root =\u001b[39m\u001b[38;5;124m'\u001b[39m, g(root))\n",
      "Cell \u001b[1;32mIn[68], line 15\u001b[0m, in \u001b[0;36mfixed_point\u001b[1;34m(g, x0, y0, tol, max_iter)\u001b[0m\n\u001b[0;32m     11\u001b[0m         \u001b[38;5;28;01mreturn\u001b[39;00m x1  \u001b[38;5;66;03m# Root found\u001b[39;00m\n\u001b[0;32m     13\u001b[0m     x0 \u001b[38;5;241m=\u001b[39m x1  \u001b[38;5;66;03m# Update the guess for the next iteration\u001b[39;00m\n\u001b[1;32m---> 15\u001b[0m \u001b[38;5;28;01mraise\u001b[39;00m \u001b[38;5;167;01mValueError\u001b[39;00m(\u001b[38;5;124m\"\u001b[39m\u001b[38;5;124mFixed Point Method did not converge within the maximum number of iterations.\u001b[39m\u001b[38;5;124m\"\u001b[39m)\n",
      "\u001b[1;31mValueError\u001b[0m: Fixed Point Method did not converge within the maximum number of iterations."
     ]
    }
   ],
   "source": [
    "# (b)\n",
    "def g(x,y):\n",
    "    return 3*y - x - 1\n",
    "\n",
    "def fixed_point(g, x0,y0, tol=1e-6, max_iter=10):\n",
    "    for _ in range(max_iter):\n",
    "        x1 = g(x0,y0)  # Update the guess\n",
    "        \n",
    "        # Check for convergence\n",
    "        if abs(x1 - x0) < tol:\n",
    "            return x1  # Root found\n",
    "\n",
    "        x0 = x1  # Update the guess for the next iteration\n",
    "\n",
    "    raise ValueError(\"Fixed Point Method did not converge within the maximum number of iterations.\")\n",
    "\n",
    "# Example usage\n",
    "x0= 2  \n",
    "y0 = 2\n",
    "tolerance = 1e-6\n",
    "\n",
    "root = fixed_point(g, x0, y0 ,tol=tolerance)\n",
    "print('Root =', root)\n",
    "print('Function value at root =', g(root))"
   ]
  }
 ],
 "metadata": {
  "kernelspec": {
   "display_name": "Python 3",
   "language": "python",
   "name": "python3"
  },
  "language_info": {
   "codemirror_mode": {
    "name": "ipython",
    "version": 3
   },
   "file_extension": ".py",
   "mimetype": "text/x-python",
   "name": "python",
   "nbconvert_exporter": "python",
   "pygments_lexer": "ipython3",
   "version": "3.12.4"
  }
 },
 "nbformat": 4,
 "nbformat_minor": 2
}
